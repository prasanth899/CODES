{
 "cells": [
  {
   "cell_type": "code",
   "execution_count": null,
   "metadata": {},
   "outputs": [],
   "source": [
    "a=\"prasanth\"\n",
    "b=a[::-1]\n",
    "if a == b:\n",
    "    print(True)\n",
    "else:\n",
    "    print(\"not a palindrome\")"
   ]
  }
 ],
 "metadata": {
  "language_info": {
   "name": "python"
  }
 },
 "nbformat": 4,
 "nbformat_minor": 2
}
